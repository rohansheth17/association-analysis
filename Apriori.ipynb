{
 "cells": [
  {
   "cell_type": "code",
   "execution_count": 1,
   "metadata": {},
   "outputs": [],
   "source": [
    "import pandas as pd\n",
    "import numpy as np\n",
    "from numpy import array\n",
    "import itertools"
   ]
  },
  {
   "cell_type": "code",
   "execution_count": 2,
   "metadata": {},
   "outputs": [],
   "source": [
    "import csv\n",
    "\n",
    "with open('associationruletestdata.txt', 'r') as in_file:\n",
    "    stripped = (line.strip() for line in in_file)\n",
    "    lines = (line.split('\\t') for line in stripped if line)\n",
    "    with open('associationruletestdata1test.csv', 'w') as out_file:\n",
    "        writer = csv.writer(out_file)\n",
    "        writer.writerows(lines)\n",
    "    "
   ]
  },
  {
   "cell_type": "code",
   "execution_count": 3,
   "metadata": {},
   "outputs": [],
   "source": [
    "data = pd.read_csv(\"associationruletestdata1test.csv\",header=None)\n",
    "data = array(data)\n",
    "T = len(data)"
   ]
  },
  {
   "cell_type": "code",
   "execution_count": 4,
   "metadata": {},
   "outputs": [
    {
     "name": "stdout",
     "output_type": "stream",
     "text": [
      "[['G1_Up' 'G2_Up' 'G3_Down' ... 'G99_Up' 'G100_Down' 'ALL']\n",
      " ['G1_Up' 'G2_Down' 'G3_Up' ... 'G99_Up' 'G100_Up' 'ALL']\n",
      " ['G1_Down' 'G2_Down' 'G3_Up' ... 'G99_Up' 'G100_Up' 'ALL']\n",
      " ...\n",
      " ['G1_Up' 'G2_Down' 'G3_Up' ... 'G99_Up' 'G100_Up' 'Colon Cancer']\n",
      " ['G1_Down' 'G2_Up' 'G3_Up' ... 'G99_Down' 'G100_Down' 'Breast Cancer']\n",
      " ['G1_Down' 'G2_Up' 'G3_Down' ... 'G99_Up' 'G100_Up' 'Breast Cancer']]\n"
     ]
    }
   ],
   "source": [
    "for i in range(data.shape[0]):\n",
    "    for j in range(data.shape[1]-1):\n",
    "        s = \"G\"+str(j+1)+\"_\"+str(data[i][j]) \n",
    "        data[i][j] = s\n",
    "    \n",
    "print(data)    \n",
    "\n",
    "a = []\n",
    "for i in range(data.shape[1]-1):\n",
    "    b=np.unique(data[:,i])\n",
    "    a.extend(b)        \n",
    "    "
   ]
  },
  {
   "cell_type": "code",
   "execution_count": 5,
   "metadata": {},
   "outputs": [
    {
     "name": "stdout",
     "output_type": "stream",
     "text": [
      "['G1_Down', 'G1_Up', 'G2_Down', 'G2_Up', 'G3_Down', 'G3_Up', 'G4_Down', 'G4_Up', 'G5_Down', 'G5_Up', 'G6_Down', 'G6_Up', 'G7_Down', 'G7_Up', 'G8_Down', 'G8_Up', 'G9_Down', 'G9_Up', 'G10_Down', 'G10_Up', 'G11_Down', 'G11_Up', 'G12_Down', 'G12_Up', 'G13_Down', 'G13_Up', 'G14_Down', 'G14_Up', 'G15_Down', 'G15_Up', 'G16_Down', 'G16_Up', 'G17_Down', 'G17_Up', 'G18_Down', 'G18_Up', 'G19_Down', 'G19_Up', 'G20_Down', 'G20_Up', 'G21_Down', 'G21_Up', 'G22_Down', 'G22_Up', 'G23_Down', 'G23_Up', 'G24_Down', 'G24_Up', 'G25_Down', 'G25_Up', 'G26_Down', 'G26_Up', 'G27_Down', 'G27_Up', 'G28_Down', 'G28_Up', 'G29_Down', 'G29_Up', 'G30_Down', 'G30_Up', 'G31_Down', 'G31_Up', 'G32_Down', 'G32_Up', 'G33_Down', 'G33_Up', 'G34_Down', 'G34_Up', 'G35_Down', 'G35_Up', 'G36_Down', 'G36_Up', 'G37_Down', 'G37_Up', 'G38_Down', 'G38_Up', 'G39_Down', 'G39_Up', 'G40_Down', 'G40_Up', 'G41_Down', 'G41_Up', 'G42_Down', 'G42_Up', 'G43_Down', 'G43_Up', 'G44_Down', 'G44_Up', 'G45_Down', 'G45_Up', 'G46_Down', 'G46_Up', 'G47_Down', 'G47_Up', 'G48_Down', 'G48_Up', 'G49_Down', 'G49_Up', 'G50_Down', 'G50_Up', 'G51_Down', 'G51_Up', 'G52_Down', 'G52_Up', 'G53_Down', 'G53_Up', 'G54_Down', 'G54_Up', 'G55_Down', 'G55_Up', 'G56_Down', 'G56_Up', 'G57_Down', 'G57_Up', 'G58_Down', 'G58_Up', 'G59_Down', 'G59_Up', 'G60_Down', 'G60_Up', 'G61_Down', 'G61_Up', 'G62_Down', 'G62_Up', 'G63_Down', 'G63_Up', 'G64_Down', 'G64_Up', 'G65_Down', 'G65_Up', 'G66_Down', 'G66_Up', 'G67_Down', 'G67_Up', 'G68_Down', 'G68_Up', 'G69_Down', 'G69_Up', 'G70_Down', 'G70_Up', 'G71_Down', 'G71_Up', 'G72_Down', 'G72_Up', 'G73_Down', 'G73_Up', 'G74_Down', 'G74_Up', 'G75_Down', 'G75_Up', 'G76_Down', 'G76_Up', 'G77_Down', 'G77_Up', 'G78_Down', 'G78_Up', 'G79_Down', 'G79_Up', 'G80_Down', 'G80_Up', 'G81_Down', 'G81_Up', 'G82_Down', 'G82_Up', 'G83_Down', 'G83_Up', 'G84_Down', 'G84_Up', 'G85_Down', 'G85_Up', 'G86_Down', 'G86_Up', 'G87_Down', 'G87_Up', 'G88_Down', 'G88_Up', 'G89_Down', 'G89_Up', 'G90_Down', 'G90_Up', 'G91_Down', 'G91_Up', 'G92_Down', 'G92_Up', 'G93_Down', 'G93_Up', 'G94_Down', 'G94_Up', 'G95_Down', 'G95_Up', 'G96_Down', 'G96_Up', 'G97_Down', 'G97_Up', 'G98_Down', 'G98_Up', 'G99_Down', 'G99_Up', 'G100_Down', 'G100_Up', 'ALL', 'AML', 'Breast Cancer', 'Colon Cancer']\n"
     ]
    }
   ],
   "source": [
    "a.extend(np.unique(list(data[:,data.shape[1]-1])))\n",
    "print(a)"
   ]
  },
  {
   "cell_type": "code",
   "execution_count": 6,
   "metadata": {},
   "outputs": [],
   "source": [
    "def oneCset(a,sc):\n",
    "    retList = a.copy()\n",
    "    s = [0]*len(retList)\n",
    "    for i in range(len(retList)):\n",
    "        count=0\n",
    "        for j in range(T):\n",
    "            if(retList[i] in data[j][:]):\n",
    "                count = count + 1\n",
    "        s[i]=count\n",
    "#     print(s)\n",
    "    i=0\n",
    "    while(i<len(s)):\n",
    "        if(s[i]/T<sc):\n",
    "            s.remove(s[i])\n",
    "    #         print(retList[i])\n",
    "            retList.remove(retList[i])\n",
    "            continue\n",
    "        else:\n",
    "            i=i+1\n",
    "#     print(s)  \n",
    "    print(\"Number of 1-length frequent itemsets: \"+str(len(retList)))\n",
    "    retList = list(map(lambda el:[el], retList)) \n",
    "#     print(retList)\n",
    "    return retList"
   ]
  },
  {
   "cell_type": "code",
   "execution_count": 7,
   "metadata": {},
   "outputs": [],
   "source": [
    "def jointSet(a,length,sc):\n",
    "    retList=[]\n",
    "    for i in range(len(a)-1):\n",
    "        for j in range(i+1,len(a)):\n",
    "            x=[]\n",
    "            a[i].sort()\n",
    "            a[j].sort()\n",
    "            res= True if (a[i][:-1]==a[j][:-1] and a[i][-1]!=a[j][-1]) else False\n",
    "            if(res == True):\n",
    "                x = list(set(a[i]).union(a[j]))\n",
    "                if(len(x)==length):\n",
    "                    retList.append(x)\n",
    "\n",
    "#     prevDeleted=[]\n",
    "#     if(length>2):\n",
    "#         i=0\n",
    "#         while(i < len(retList)):\n",
    "#             res=False\n",
    "#             for j in range(len(b)):\n",
    "#                 if(set(b[j]).issubset(set(retList[i]))):\n",
    "#                     res=True\n",
    "#                     break\n",
    "#             if(res == True):\n",
    "#                 prevDeleted.append(retList[i])\n",
    "#                 retList.remove(retList[i])\n",
    "#                 continue\n",
    "#             else:\n",
    "#                 i=i+1\n",
    "        \n",
    "    s1=[]\n",
    "    i=0\n",
    "    while(i < len(retList)):\n",
    "        count=0\n",
    "        for j in range(T):\n",
    "            if(set(retList[i]).issubset(set(data[j][:]))):\n",
    "                count = count + 1\n",
    "        if(count/T<sc): \n",
    "#             prevDeleted.append(retList[i])\n",
    "            retList.remove(retList[i])\n",
    "            continue\n",
    "        else:\n",
    "            s1.append(count)\n",
    "            i=i+1\n",
    "    print(\"Number of \"+str(length)+\"-length frequent itemsets: \"+str(len(retList)))\n",
    "    return retList"
   ]
  },
  {
   "cell_type": "code",
   "execution_count": 8,
   "metadata": {},
   "outputs": [
    {
     "name": "stdout",
     "output_type": "stream",
     "text": [
      "Number of 1-length frequent itemsets: 109\n"
     ]
    }
   ],
   "source": [
    "b = a.copy()\n",
    "currentLSet = oneCset(b,0.5)    \n",
    "largeSet = dict()\n",
    "# print(currentLSet)"
   ]
  },
  {
   "cell_type": "code",
   "execution_count": 9,
   "metadata": {},
   "outputs": [
    {
     "name": "stdout",
     "output_type": "stream",
     "text": [
      "Number of 2-length frequent itemsets: 63\n",
      "Number of 3-length frequent itemsets: 2\n",
      "Number of 4-length frequent itemsets: 0\n",
      "Total number of frequent itemsets: 174\n"
     ]
    }
   ],
   "source": [
    "k=2\n",
    "# prevDeleted = []\n",
    "total=0\n",
    "while(currentLSet!=[]):\n",
    "    largeSet[k-1]=currentLSet\n",
    "    total = total + len(currentLSet)\n",
    "    currentLSet = jointSet(currentLSet,k,0.5)   \n",
    "#     print(currentLSet)\n",
    "    k = k + 1\n",
    "    \n",
    "print(\"Total number of frequent itemsets: \"+str(total))    "
   ]
  },
  {
   "cell_type": "code",
   "execution_count": 10,
   "metadata": {},
   "outputs": [],
   "source": [
    "from itertools import chain, combinations\n",
    "\n",
    "def subsets(arr):\n",
    "#     Returns non empty subsets of arr\n",
    "    return chain(*[combinations(arr, i + 1) for i, a in enumerate(arr)])\n",
    "\n",
    "\n",
    "def getSupport(arr):\n",
    "    count=0\n",
    "    for j in range(T):\n",
    "        if(set(arr).issubset(set(data[j][:]))):\n",
    "            count = count + 1\n",
    "    return count        \n",
    "\n",
    "def printRules(rulelist):\n",
    "    for i in range(len(rulelist)):\n",
    "        print(str(rulelist[i][0])+\"--->\"+str(rulelist[i][1])+\", confidence = \"+str(rulelist[i][2]))\n",
    "    return    \n",
    "        "
   ]
  },
  {
   "cell_type": "code",
   "execution_count": 11,
   "metadata": {},
   "outputs": [],
   "source": [
    "def ruleGen(minconf):\n",
    "    toRetRules = []\n",
    "    for key, value in list(largeSet.items())[1:]:\n",
    "    #     print(\"----------------------------------------------------------------------\")\n",
    "        for item in value:\n",
    "    #         print(item)\n",
    "            _subsets = [x for x in subsets(item)]\n",
    "    #         print(_subsets)\n",
    "            for element in _subsets:\n",
    "    #             print(list(set(element)))\n",
    "                remain = list(set(item) - set(element))\n",
    "    #             print(remain)\n",
    "                if len(remain) > 0:      \n",
    "                    confidence = getSupport(item)/getSupport(list(set(element)))\n",
    "                    if confidence >= minconf:\n",
    "                        toRetRules.append((list(element), list(remain), confidence))\n",
    "\n",
    "#     print(len(toRetRules[0][0]))                    \n",
    "    return toRetRules"
   ]
  },
  {
   "cell_type": "code",
   "execution_count": 12,
   "metadata": {},
   "outputs": [
    {
     "name": "stdout",
     "output_type": "stream",
     "text": [
      "117\n"
     ]
    }
   ],
   "source": [
    "toRetRules = ruleGen(0.7)\n",
    "\n",
    "print(len(toRetRules))\n",
    "# printRules(toRetRules)"
   ]
  },
  {
   "cell_type": "code",
   "execution_count": 13,
   "metadata": {},
   "outputs": [],
   "source": [
    "# with open('tosave.txt', 'w') as f:\n",
    "#     for item in toRetRules:\n",
    "#         f.write(str(item))"
   ]
  },
  {
   "cell_type": "code",
   "execution_count": 14,
   "metadata": {},
   "outputs": [],
   "source": [
    "def template1(s1,s2,l):\n",
    "    rulestemp1=[]\n",
    "    if(s1 == \"RULE\"):\n",
    "        if(s2 == \"ANY\"):\n",
    "            for i in range(len(toRetRules)):\n",
    "                for j in range(len(l)):\n",
    "                    if((l[j] in toRetRules[i][0]) or (l[j] in toRetRules[i][1])):\n",
    "                        rulestemp1.append(toRetRules[i])\n",
    "                        break\n",
    "            return rulestemp1           \n",
    "        elif(s2 == \"NONE\"):\n",
    "            for i in range(len(toRetRules)):\n",
    "                c=0\n",
    "                for j in range(len(l)):\n",
    "                    if((l[j] in toRetRules[i][0]) or (l[j] in toRetRules[i][1])):\n",
    "                        break\n",
    "                    else:\n",
    "                        c=c+1\n",
    "                if(c==len(l)):\n",
    "                    rulestemp1.append(toRetRules[i])\n",
    "            return rulestemp1        \n",
    "        else:\n",
    "            for i in range(len(toRetRules)):\n",
    "                c=0\n",
    "                for j in range(len(l)):\n",
    "                    if((l[j] in toRetRules[i][0]) or (l[j] in toRetRules[i][1])):\n",
    "                        c=c+1        \n",
    "                if(c==s2):\n",
    "                    rulestemp1.append(toRetRules[i])\n",
    "            return rulestemp1     \n",
    "        \n",
    "    if(s1 == \"HEAD\"): \n",
    "        if(s2 == \"ANY\"):\n",
    "            for i in range(len(toRetRules)):\n",
    "                for j in range(len(l)):\n",
    "                    if((l[j] in toRetRules[i][0])):\n",
    "                        rulestemp1.append(toRetRules[i])\n",
    "                        break\n",
    "            return rulestemp1  \n",
    "        elif(s2 == \"NONE\"):\n",
    "            for i in range(len(toRetRules)):\n",
    "                c=0\n",
    "                for j in range(len(l)):\n",
    "                    if((l[j] in toRetRules[i][0])):\n",
    "                        break\n",
    "                    else:\n",
    "                        c=c+1\n",
    "                if(c==len(l)):\n",
    "                    rulestemp1.append(toRetRules[i])\n",
    "            return rulestemp1        \n",
    "        else:\n",
    "            for i in range(len(toRetRules)):\n",
    "                c=0\n",
    "                for j in range(len(l)):\n",
    "                    if((l[j] in toRetRules[i][0])):\n",
    "                        c=c+1\n",
    "                if(c==s2):\n",
    "                    rulestemp1.append(toRetRules[i])\n",
    "            return rulestemp1  \n",
    "        \n",
    "    if(s1 == \"BODY\"):\n",
    "        if(s2 == \"ANY\"):\n",
    "            for i in range(len(toRetRules)):\n",
    "                for j in range(len(l)):\n",
    "                    if((l[j] in toRetRules[i][1])):\n",
    "                        rulestemp1.append(toRetRules[i])\n",
    "                        break\n",
    "            return rulestemp1  \n",
    "        elif(s2 == \"NONE\"):\n",
    "            for i in range(len(toRetRules)):\n",
    "                c=0\n",
    "                for j in range(len(l)):\n",
    "                    if((l[j] in toRetRules[i][1])):\n",
    "                        break\n",
    "                    else:\n",
    "                        c=c+1\n",
    "                if(c==len(l)):\n",
    "                    rulestemp1.append(toRetRules[i])\n",
    "            return rulestemp1    \n",
    "        else: \n",
    "            for i in range(len(toRetRules)):\n",
    "                c=0\n",
    "                for j in range(len(l)):\n",
    "                    if((l[j] in toRetRules[i][1])):\n",
    "                        c=c+1\n",
    "                if(c==s2):\n",
    "                    rulestemp1.append(toRetRules[i])\n",
    "            return rulestemp1  "
   ]
  },
  {
   "cell_type": "code",
   "execution_count": 15,
   "metadata": {},
   "outputs": [],
   "source": [
    "def template2(s1,s2):\n",
    "    rulestemp1=[]\n",
    "    if(s1 == \"RULE\"):\n",
    "        for i in range(len(toRetRules)):\n",
    "            if((len(toRetRules[i][0])+len(toRetRules[i][1]))>=s2):\n",
    "                 rulestemp1.append(toRetRules[i])\n",
    "        return rulestemp1  \n",
    "    if(s1 == \"HEAD\"):\n",
    "        for i in range(len(toRetRules)):\n",
    "            if(len(toRetRules[i][0])>=s2):\n",
    "                 rulestemp1.append(toRetRules[i])\n",
    "        return rulestemp1  \n",
    "    if(s1 == \"BODY\"):\n",
    "        for i in range(len(toRetRules)):\n",
    "            if(len(toRetRules[i][1])>=s2):\n",
    "                 rulestemp1.append(toRetRules[i])\n",
    "        return rulestemp1  "
   ]
  },
  {
   "cell_type": "code",
   "execution_count": 16,
   "metadata": {},
   "outputs": [],
   "source": [
    "def template3(s,s1,s2,l1,s3,s4='0',l2=0):\n",
    "    if(s == \"1or1\"):\n",
    "        rulestemp1 = template1(s1,s2,l1)\n",
    "        rulestemp2 = template1(s3,s4,l2)\n",
    "        rulestemp3 = [value for value in rulestemp1 if value in rulestemp2]\n",
    "        for i in range(len(rulestemp2)):\n",
    "            rulestemp1.append(rulestemp2[i])\n",
    "        for i in range(len(rulestemp3)):\n",
    "            rulestemp1.remove(rulestemp3[i])\n",
    "        return rulestemp1            \n",
    "    if(s == \"1and1\"):\n",
    "        rulestemp1 = template1(s1,s2,l1)\n",
    "        rulestemp2 = template1(s3,s4,l2)\n",
    "        rulestemp3 = [value for value in rulestemp1 if value in rulestemp2]\n",
    "        return rulestemp3   \n",
    "    if(s == \"1or2\"):\n",
    "        rulestemp1 = template1(s1,s2,l1)\n",
    "        rulestemp2 = template2(s3,s4)\n",
    "        rulestemp3 = [value for value in rulestemp1 if value in rulestemp2]\n",
    "        for i in range(len(rulestemp2)):\n",
    "            rulestemp1.append(rulestemp2[i])\n",
    "        for i in range(len(rulestemp3)):\n",
    "            rulestemp1.remove(rulestemp3[i])\n",
    "        return rulestemp1                 \n",
    "    if(s == \"1and2\"):\n",
    "        rulestemp1 = template1(s1,s2,l1)\n",
    "        rulestemp2 = template2(s3,s4)\n",
    "        rulestemp3 = [value for value in rulestemp1 if value in rulestemp2]\n",
    "        return rulestemp3       \n",
    "    if(s == \"2or2\"):\n",
    "        rulestemp1 = template2(s1,s2)\n",
    "        rulestemp2 = template2(l1,s3)\n",
    "        rulestemp3 = [value for value in rulestemp1 if value in rulestemp2]\n",
    "        for i in range(len(rulestemp2)):\n",
    "            rulestemp1.append(rulestemp2[i])\n",
    "        for i in range(len(rulestemp3)):\n",
    "            rulestemp1.remove(rulestemp3[i])\n",
    "        return rulestemp1          \n",
    "    if(s == \"2and2\"):\n",
    "        rulestemp1 = template2(s1,s2)\n",
    "        rulestemp2 = template2(l1,s3)\n",
    "        rulestemp3 = [value for value in rulestemp1 if value in rulestemp2]\n",
    "        return rulestemp3  \n",
    "        \n",
    "        \n",
    "    \n",
    "    "
   ]
  },
  {
   "cell_type": "markdown",
   "metadata": {},
   "source": [
    "## TEMPLATE1 QUERIES"
   ]
  },
  {
   "cell_type": "code",
   "execution_count": 17,
   "metadata": {},
   "outputs": [
    {
     "name": "stdout",
     "output_type": "stream",
     "text": [
      "26\n"
     ]
    }
   ],
   "source": [
    "lst = template1(\"RULE\", \"ANY\", ['G59_Up'])\n",
    "print(len(lst))\n",
    "# printRules(lst)"
   ]
  },
  {
   "cell_type": "code",
   "execution_count": 18,
   "metadata": {},
   "outputs": [
    {
     "name": "stdout",
     "output_type": "stream",
     "text": [
      "91\n"
     ]
    }
   ],
   "source": [
    "lst = template1(\"RULE\", \"NONE\", ['G59_Up'])\n",
    "print(len(lst))\n",
    "# printRules(lst)"
   ]
  },
  {
   "cell_type": "code",
   "execution_count": 19,
   "metadata": {},
   "outputs": [
    {
     "name": "stdout",
     "output_type": "stream",
     "text": [
      "39\n"
     ]
    }
   ],
   "source": [
    "lst = template1(\"RULE\", 1, ['G59_Up', 'G10_Down'])\n",
    "print(len(lst))\n",
    "# printRules(lst)"
   ]
  },
  {
   "cell_type": "code",
   "execution_count": 20,
   "metadata": {},
   "outputs": [
    {
     "name": "stdout",
     "output_type": "stream",
     "text": [
      "9\n"
     ]
    }
   ],
   "source": [
    "lst = template1(\"HEAD\", \"ANY\", ['G59_Up'])\n",
    "print(len(lst))\n",
    "# printRules(lst)"
   ]
  },
  {
   "cell_type": "code",
   "execution_count": 21,
   "metadata": {},
   "outputs": [
    {
     "name": "stdout",
     "output_type": "stream",
     "text": [
      "108\n"
     ]
    }
   ],
   "source": [
    "lst = template1(\"HEAD\", \"NONE\", ['G59_Up'])\n",
    "print(len(lst))\n",
    "# printRules(lst)"
   ]
  },
  {
   "cell_type": "code",
   "execution_count": 22,
   "metadata": {},
   "outputs": [
    {
     "name": "stdout",
     "output_type": "stream",
     "text": [
      "17\n"
     ]
    }
   ],
   "source": [
    "lst = template1(\"HEAD\", 1, ['G59_Up', 'G10_Down'])\n",
    "print(len(lst))\n",
    "# printRules(lst)"
   ]
  },
  {
   "cell_type": "code",
   "execution_count": 23,
   "metadata": {},
   "outputs": [
    {
     "name": "stdout",
     "output_type": "stream",
     "text": [
      "17\n"
     ]
    }
   ],
   "source": [
    "lst = template1(\"BODY\", \"ANY\", ['G59_Up'])\n",
    "print(len(lst))\n",
    "# printRules(lst)"
   ]
  },
  {
   "cell_type": "code",
   "execution_count": 24,
   "metadata": {},
   "outputs": [
    {
     "name": "stdout",
     "output_type": "stream",
     "text": [
      "100\n"
     ]
    }
   ],
   "source": [
    "lst = template1(\"BODY\", \"NONE\", ['G59_Up'])\n",
    "print(len(lst))\n",
    "# printRules(lst)"
   ]
  },
  {
   "cell_type": "code",
   "execution_count": 25,
   "metadata": {},
   "outputs": [
    {
     "name": "stdout",
     "output_type": "stream",
     "text": [
      "24\n"
     ]
    }
   ],
   "source": [
    "lst = template1(\"BODY\", 1, ['G59_Up', 'G10_Down'])\n",
    "print(len(lst))\n",
    "# printRules(lst)"
   ]
  },
  {
   "cell_type": "markdown",
   "metadata": {},
   "source": [
    "## TEMPLATE2 QUERIES"
   ]
  },
  {
   "cell_type": "code",
   "execution_count": 26,
   "metadata": {},
   "outputs": [
    {
     "name": "stdout",
     "output_type": "stream",
     "text": [
      "9\n"
     ]
    }
   ],
   "source": [
    "lst = template2(\"RULE\", 3)\n",
    "print(len(lst))\n",
    "# printRules(lst)"
   ]
  },
  {
   "cell_type": "code",
   "execution_count": 27,
   "metadata": {},
   "outputs": [
    {
     "name": "stdout",
     "output_type": "stream",
     "text": [
      "6\n"
     ]
    }
   ],
   "source": [
    "lst = template2(\"HEAD\", 2)\n",
    "print(len(lst))\n",
    "# printRules(lst)"
   ]
  },
  {
   "cell_type": "code",
   "execution_count": 28,
   "metadata": {},
   "outputs": [
    {
     "name": "stdout",
     "output_type": "stream",
     "text": [
      "117\n"
     ]
    }
   ],
   "source": [
    "lst = template2(\"BODY\", 1)\n",
    "print(len(lst))\n",
    "# printRules(lst)"
   ]
  },
  {
   "cell_type": "markdown",
   "metadata": {},
   "source": [
    "## TEMPLATE3 QUERIES"
   ]
  },
  {
   "cell_type": "code",
   "execution_count": 29,
   "metadata": {},
   "outputs": [
    {
     "name": "stdout",
     "output_type": "stream",
     "text": [
      "24\n"
     ]
    }
   ],
   "source": [
    "lst = template3(\"1or1\", \"HEAD\", \"ANY\", ['G10_Down'], \"BODY\", 1, ['G59_Up'])\n",
    "print(len(lst))\n",
    "# printRules(lst)"
   ]
  },
  {
   "cell_type": "code",
   "execution_count": 30,
   "metadata": {},
   "outputs": [
    {
     "name": "stdout",
     "output_type": "stream",
     "text": [
      "1\n"
     ]
    }
   ],
   "source": [
    "lst = template3(\"1and1\", \"HEAD\", \"ANY\", ['G10_Down'], \"BODY\", 1, ['G59_Up'])\n",
    "print(len(lst))\n",
    "# printRules(lst)"
   ]
  },
  {
   "cell_type": "code",
   "execution_count": 31,
   "metadata": {},
   "outputs": [
    {
     "name": "stdout",
     "output_type": "stream",
     "text": [
      "11\n"
     ]
    }
   ],
   "source": [
    "lst = template3(\"1or2\", \"HEAD\", \"ANY\", ['G10_Down'], \"BODY\", 2)\n",
    "print(len(lst))\n",
    "# printRules(lst)"
   ]
  },
  {
   "cell_type": "code",
   "execution_count": 32,
   "metadata": {},
   "outputs": [
    {
     "name": "stdout",
     "output_type": "stream",
     "text": [
      "0\n"
     ]
    }
   ],
   "source": [
    "lst = template3(\"1and2\", \"HEAD\", \"ANY\", ['G10_Down'], \"BODY\", 2)\n",
    "print(len(lst))\n",
    "# printRules(lst)"
   ]
  },
  {
   "cell_type": "code",
   "execution_count": 33,
   "metadata": {},
   "outputs": [
    {
     "name": "stdout",
     "output_type": "stream",
     "text": [
      "117\n"
     ]
    }
   ],
   "source": [
    "lst = template3(\"2or2\", \"HEAD\", 1, \"BODY\", 2)\n",
    "print(len(lst))\n",
    "# printRules(lst)"
   ]
  },
  {
   "cell_type": "code",
   "execution_count": 34,
   "metadata": {},
   "outputs": [
    {
     "name": "stdout",
     "output_type": "stream",
     "text": [
      "3\n"
     ]
    }
   ],
   "source": [
    "lst = template3(\"2and2\", \"HEAD\", 1, \"BODY\", 2)\n",
    "print(len(lst))\n",
    "# printRules(lst)"
   ]
  },
  {
   "cell_type": "markdown",
   "metadata": {},
   "source": [
    "## Demo Queries"
   ]
  },
  {
   "cell_type": "code",
   "execution_count": 35,
   "metadata": {},
   "outputs": [],
   "source": [
    "lst = template3(\"1or2\", \"BODY\", \"ANY\", ['G1_Down'], \"HEAD\", 2)\n",
    "print(len(lst))\n",
    "# printRules(lst)"
   ]
  }
 ],
 "metadata": {
  "kernelspec": {
   "display_name": "Python 3",
   "language": "python",
   "name": "python3"
  },
  "language_info": {
   "codemirror_mode": {
    "name": "ipython",
    "version": 3
   },
   "file_extension": ".py",
   "mimetype": "text/x-python",
   "name": "python",
   "nbconvert_exporter": "python",
   "pygments_lexer": "ipython3",
   "version": "3.6.8"
  }
 },
 "nbformat": 4,
 "nbformat_minor": 2
}
